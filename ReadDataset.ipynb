{
 "cells": [
  {
   "cell_type": "code",
   "execution_count": 199,
   "id": "9d807e68-1317-46c7-9a7d-dddd0be7ecf2",
   "metadata": {},
   "outputs": [],
   "source": [
    "import sys # to access the system\n",
    "import cv2\n",
    "from bs4 import BeautifulSoup\n",
    "import bs4\n",
    "import time\n",
    "import os\n",
    "# import filecmp\n",
    "# cmp = filecmp.dircmp(DBROOT+r\"\\task_20230718085420_20230718085435_3.mp4_dataset_2024_02_28_10_02_13_cvat for video 1.1 (1)\\images\", DBROOT+r\"\\task_20230718085420_20230718085435_3.mp4_dataset_2024_02_28_10_02_13_cvat for video 1.1\\images\")\n",
    "# cmp.report()\n",
    "\n",
    "def path2img(img_num, dbpath):\n",
    "    img_pad = str(img_num).zfill(6)\n",
    "    return f\"{dbpath}\\\\frame_{img_pad}.PNG\"\n",
    "\n",
    "def load_annotations(annotation_path: str):\n",
    "    r\"\"\"\n",
    "    annotation_path: str = \"D:\\Dataset\\FishDetection\\Annotation\\task_fish_detection-2024_02_05_18_52_05-cvat for video 1.1\"\n",
    "    \"\"\"\n",
    "    path=f\"{annotation_path}\\\\annotations.xml\"\n",
    "    with open(path, 'r') as f:\n",
    "        data = f.read()\n",
    "    Bs_data = BeautifulSoup(data, \"xml\")\n",
    "    metadata = Bs_data.find('meta').find(\"task\").find(\"segments\")\n",
    "    # Get the annotations frame count\n",
    "    start_frame = int(metadata.find(\"start\").text)\n",
    "    stop_frame = int(metadata.find(\"stop\").text)\n",
    "    # The annotations is within track property\n",
    "    box_annotations = Bs_data.find_all('track')\n",
    "    # Check if there are any annotations of fish, else return empty box annotations\n",
    "    if box_annotations:\n",
    "        # Only get box elements\n",
    "        map_frame_to_index = {}\n",
    "        all_boxes = box_annotations[0].find_all('box')\n",
    "        for i in range(1, len(box_annotations)):\n",
    "            all_boxes += box_annotations[i].find_all('box')\n",
    "        for j, box in enumerate(all_boxes):\n",
    "            #print(str(box[\"frame\"]))\n",
    "            if box[\"frame\"] in map_frame_to_index:\n",
    "                map_frame_to_index[box[\"frame\"]] += [j]\n",
    "            else:\n",
    "                map_frame_to_index[box[\"frame\"]] = [j]\n",
    "        return all_boxes, map_frame_to_index, (start_frame, stop_frame)\n",
    "    return \"\", {}, (start_frame, stop_frame)\n",
    "\n",
    "def showVideo(samples_path: str, window: str, skip_empty: bool=False, window_name: str= \"\") -> bool:\n",
    "    r\"\"\"\n",
    "    samples_path = \"D:\\Dataset\\FishDetection\\Annotation\\task_fish_detection-2024_01_28_18_07_53-cvat for video 1.1\"\n",
    "    \"\"\"\n",
    "    # Draw boxes settings\n",
    "    color = (0, 255, 0)  # Green\n",
    "    thickness = 10\n",
    "    # Load annotation boxes and their mapping\n",
    "    boxes, map2indices, frames = load_annotations(samples_path)\n",
    "    video_name = window_name if window_name else samples_path.split(\"\\\\\")[-1]\n",
    "    cv2.setWindowTitle(window, video_name)\n",
    "    if skip_empty and not boxes:\n",
    "        return True\n",
    "    for i in range(*frames):\n",
    "        img = cv2.imread(path2img(i, samples_path+r\"\\images\"), cv2.IMREAD_ANYCOLOR)\n",
    "        if str(i) in map2indices:\n",
    "            for indicie in map2indices[str(i)]:\n",
    "                box = boxes[indicie]\n",
    "                # Get coordinates from your box data\n",
    "                x = float(box['xtl'])\n",
    "                y = float(box['ytl'])\n",
    "                x2 = float(box['xbr'])\n",
    "                y2 = float(box['ybr'])\n",
    "                # Convert to integers\n",
    "                x, y, x2, y2 = map(int, [x, y, x2, y2])\n",
    "                # Draw rectangle\n",
    "                cv2.rectangle(img, (x, y), (x2, y2), color, thickness)\n",
    "        key = cv2.waitKey(2) & 0xFF\n",
    "        if key == ord(\"q\"):\n",
    "            return True\n",
    "        elif key == ord(\"a\"):\n",
    "            return False\n",
    "        #samples_path.split(\"\\\\\")[-1],\n",
    "        cv2.imshow(window, img)\n",
    "    return True\n",
    "\n",
    "\n",
    "\n",
    "# img = cv2.imread(\"sheep.png\", cv2.IMREAD_ANYCOLOR)\n",
    "def loadLabelsYolo(label_filepath: str) -> list[tuple[int, float, float, float, float]]:\n",
    "    r\"\"\"\n",
    "    Load YOLO label data from a specified file.\n",
    "\n",
    "    This function reads a label file containing label information in a specific format and \n",
    "    returns a list of tuples. Each tuple contains the following information:\n",
    "    \n",
    "    - label int: The integer identifier for the label.\n",
    "    - x float: The x-coordinate of the label's bounding box.\n",
    "    - y float: The y-coordinate of the label's bounding box.\n",
    "    - width float: The width of the label's bounding box.\n",
    "    - height float: The height of the label's bounding box.\n",
    "\n",
    "    Args:\n",
    "        label_filepath (str): The path to the label file.\n",
    "\n",
    "    Returns:\n",
    "        List[Tuple[int, float, float, float, float]]: A list of tuples where each tuple \n",
    "        corresponds to a label in the format (label int, x float, y float, width float, height float).\n",
    "    \"\"\"\n",
    "    \n",
    "    # Open the label file and read its contents\n",
    "    with open(label_filepath, \"r\") as f:\n",
    "        data = f.readlines()\n",
    "    \n",
    "    # Strip whitespace and split each line into components\n",
    "    rstripped = [d.rstrip().split() for d in data]\n",
    "    \n",
    "    # Convert the split string data into a list of tuples with the appropriate types\n",
    "    labels = [\n",
    "        (int(l[0]), float(l[1]), float(l[2]), float(l[3]), float(l[4])) \n",
    "        for l in rstripped\n",
    "    ]\n",
    "    \n",
    "    return labels\n",
    "\n",
    "def labelToBox(label: tuple[float, int, int, int, int], window_size: tuple[int, int]=(1920,1080)) -> tuple[tuple[int, int], tuple[int, int]]:\n",
    "    \"\"\"\n",
    "    Eg label = (0, 0.9653645833333333, 0.1361111111111111, 0.06822916666666666, 0.1574074074074074)\n",
    "    Eg. output = (1788, 62), (1919, 232)\n",
    "    \"\"\"\n",
    "    # 0.5, 0.5, 0.1, 0.1\n",
    "    width = int(window_size[0] * label[3])\n",
    "    height = int(window_size[1] * label[4])\n",
    "    \n",
    "    start_x = int(label[1] * window_size[0] - width/2)\n",
    "    start_y = int(label[2] * window_size[1] - height/2)\n",
    "\n",
    "    end_x = start_x + width\n",
    "    end_y = start_y + height\n",
    "    return (start_x,start_y),(end_x,end_y)\n",
    "\n",
    "    \n",
    "\n",
    "\n",
    "def readLabelYolo(path: str):\n",
    "    with open(path, \"r\") as reader:\n",
    "        data = reader.readlines()\n",
    "    return [line.rstrip() for line in data]\n",
    "    #print(data)\n",
    "\n",
    "def labelpathToImagepath(label_path: str) -> str:\n",
    "    labels_path, label_name = os.path.split(label_path)\n",
    "    images_path = os.path.join(os.path.split(labels_path)[0], \"images\")\n",
    "    image_path = os.path.join(images_path, label_name[:-3] + \"PNG\")\n",
    "    return image_path\n",
    "\n",
    "def displayImageNotated(label_path: str):\n",
    "    detections = readLabelYolo(label_path)\n",
    "    image_path = labelpathToImagepath(label_path)\n",
    "    img = cv2.imread(image_path, cv2.IMREAD_ANYCOLOR)\n",
    "    if len(detections) > 0:\n",
    "        for detection in detections:\n",
    "            split_det = detection.split()\n",
    "            #if float(split_det[3]) > 0.25 and float(split_det[3]) < 0.80:\n",
    "            start,stop = labelToBox((int(split_det[0]), float(split_det[1]),float(split_det[2]),float(split_det[3]),float(split_det[4])))\n",
    "            cv2.rectangle(img, start, stop, color, thickness)\n",
    "    \n",
    "    cv2.imshow(\"window\", img)\n",
    "    key = cv2.waitKey(2)\n",
    "    print(detections, directory)\n",
    "\n",
    "def saveImageNotated(label_path: str, dst_path: str):\n",
    "    detections = readLabelYolo(label_path)\n",
    "    image_path = labelpathToImagepath(label_path)\n",
    "    img = cv2.imread(image_path, cv2.IMREAD_ANYCOLOR)\n",
    "    if len(detections) > 0:\n",
    "        for detection in detections:\n",
    "            split_det = detection.split()\n",
    "            #if float(split_det[3]) > 0.25 and float(split_det[3]) < 0.80:\n",
    "            start,stop = labelToBox((int(split_det[0]), float(split_det[1]),float(split_det[2]),float(split_det[3]),float(split_det[4])))\n",
    "            cv2.rectangle(img, start, stop, color, thickness)\n",
    "    cv2.imwrite(dst_path, img)\n",
    "    #cv2.imshow(\"window\", img)\n",
    "    #key = cv2.waitKey(2)\n",
    "    #print(detections, directory)\n"
   ]
  },
  {
   "cell_type": "code",
   "execution_count": 223,
   "id": "9a7e4be5-e1a0-4a19-9a57-0a2e434dab01",
   "metadata": {
    "scrolled": true
   },
   "outputs": [
    {
     "name": "stdout",
     "output_type": "stream",
     "text": [
      "D:\\Dataset\\FishDetection2Yolo\\valid\\labels\\frame_001607.txt anomalies\\frame_001607.txt\n",
      "D:\\Dataset\\FishDetection2Yolo\\valid\\labels\\frame_001608.txt anomalies\\frame_001608.txt\n",
      "D:\\Dataset\\FishDetection2Yolo\\valid\\labels\\frame_001609.txt anomalies\\frame_001609.txt\n",
      "D:\\Dataset\\FishDetection2Yolo\\valid\\labels\\frame_001610.txt anomalies\\frame_001610.txt\n",
      "D:\\Dataset\\FishDetection2Yolo\\valid\\labels\\frame_001611.txt anomalies\\frame_001611.txt\n",
      "D:\\Dataset\\FishDetection2Yolo\\valid\\labels\\frame_001612.txt anomalies\\frame_001612.txt\n",
      "D:\\Dataset\\FishDetection2Yolo\\valid\\labels\\frame_001613.txt anomalies\\frame_001613.txt\n",
      "D:\\Dataset\\FishDetection2Yolo\\valid\\labels\\frame_001614.txt anomalies\\frame_001614.txt\n",
      "D:\\Dataset\\FishDetection2Yolo\\valid\\labels\\frame_001615.txt anomalies\\frame_001615.txt\n",
      "D:\\Dataset\\FishDetection2Yolo\\valid\\labels\\frame_001616.txt anomalies\\frame_001616.txt\n",
      "D:\\Dataset\\FishDetection2Yolo\\valid\\labels\\frame_001617.txt anomalies\\frame_001617.txt\n",
      "D:\\Dataset\\FishDetection2Yolo\\valid\\labels\\frame_001618.txt anomalies\\frame_001618.txt\n",
      "D:\\Dataset\\FishDetection2Yolo\\valid\\labels\\frame_001619.txt anomalies\\frame_001619.txt\n",
      "D:\\Dataset\\FishDetection2Yolo\\valid\\labels\\frame_001620.txt anomalies\\frame_001620.txt\n",
      "D:\\Dataset\\FishDetection2Yolo\\valid\\labels\\frame_001621.txt anomalies\\frame_001621.txt\n",
      "D:\\Dataset\\FishDetection2Yolo\\valid\\labels\\frame_001622.txt anomalies\\frame_001622.txt\n",
      "D:\\Dataset\\FishDetection2Yolo\\valid\\labels\\frame_001623.txt anomalies\\frame_001623.txt\n",
      "D:\\Dataset\\FishDetection2Yolo\\valid\\labels\\frame_001624.txt anomalies\\frame_001624.txt\n",
      "D:\\Dataset\\FishDetection2Yolo\\valid\\labels\\frame_001625.txt anomalies\\frame_001625.txt\n",
      "D:\\Dataset\\FishDetection2Yolo\\valid\\labels\\frame_001626.txt anomalies\\frame_001626.txt\n",
      "D:\\Dataset\\FishDetection2Yolo\\valid\\labels\\frame_001627.txt anomalies\\frame_001627.txt\n",
      "D:\\Dataset\\FishDetection2Yolo\\valid\\labels\\frame_001628.txt anomalies\\frame_001628.txt\n",
      "D:\\Dataset\\FishDetection2Yolo\\valid\\labels\\frame_001629.txt anomalies\\frame_001629.txt\n",
      "D:\\Dataset\\FishDetection2Yolo\\valid\\labels\\frame_001630.txt anomalies\\frame_001630.txt\n",
      "D:\\Dataset\\FishDetection2Yolo\\valid\\labels\\frame_001631.txt anomalies\\frame_001631.txt\n",
      "D:\\Dataset\\FishDetection2Yolo\\valid\\labels\\frame_001632.txt anomalies\\frame_001632.txt\n",
      "D:\\Dataset\\FishDetection2Yolo\\valid\\labels\\frame_001633.txt anomalies\\frame_001633.txt\n",
      "D:\\Dataset\\FishDetection2Yolo\\valid\\labels\\frame_001634.txt anomalies\\frame_001634.txt\n",
      "D:\\Dataset\\FishDetection2Yolo\\valid\\labels\\frame_001635.txt anomalies\\frame_001635.txt\n",
      "D:\\Dataset\\FishDetection2Yolo\\valid\\labels\\frame_001636.txt anomalies\\frame_001636.txt\n",
      "D:\\Dataset\\FishDetection2Yolo\\valid\\labels\\frame_001637.txt anomalies\\frame_001637.txt\n",
      "D:\\Dataset\\FishDetection2Yolo\\valid\\labels\\frame_001638.txt anomalies\\frame_001638.txt\n",
      "D:\\Dataset\\FishDetection2Yolo\\valid\\labels\\frame_001639.txt anomalies\\frame_001639.txt\n",
      "D:\\Dataset\\FishDetection2Yolo\\valid\\labels\\frame_001640.txt anomalies\\frame_001640.txt\n",
      "D:\\Dataset\\FishDetection2Yolo\\valid\\labels\\frame_001641.txt anomalies\\frame_001641.txt\n",
      "D:\\Dataset\\FishDetection2Yolo\\valid\\labels\\frame_001642.txt anomalies\\frame_001642.txt\n",
      "D:\\Dataset\\FishDetection2Yolo\\valid\\labels\\frame_001643.txt anomalies\\frame_001643.txt\n",
      "D:\\Dataset\\FishDetection2Yolo\\valid\\labels\\frame_001644.txt anomalies\\frame_001644.txt\n",
      "D:\\Dataset\\FishDetection2Yolo\\valid\\labels\\frame_001645.txt anomalies\\frame_001645.txt\n",
      "D:\\Dataset\\FishDetection2Yolo\\valid\\labels\\frame_001646.txt anomalies\\frame_001646.txt\n",
      "D:\\Dataset\\FishDetection2Yolo\\valid\\labels\\frame_001647.txt anomalies\\frame_001647.txt\n",
      "D:\\Dataset\\FishDetection2Yolo\\valid\\labels\\frame_001648.txt anomalies\\frame_001648.txt\n",
      "D:\\Dataset\\FishDetection2Yolo\\valid\\labels\\frame_001649.txt anomalies\\frame_001649.txt\n",
      "D:\\Dataset\\FishDetection2Yolo\\valid\\labels\\frame_001650.txt anomalies\\frame_001650.txt\n",
      "D:\\Dataset\\FishDetection2Yolo\\valid\\labels\\frame_001651.txt anomalies\\frame_001651.txt\n",
      "D:\\Dataset\\FishDetection2Yolo\\valid\\labels\\frame_001652.txt anomalies\\frame_001652.txt\n",
      "D:\\Dataset\\FishDetection2Yolo\\valid\\labels\\frame_001653.txt anomalies\\frame_001653.txt\n",
      "D:\\Dataset\\FishDetection2Yolo\\valid\\labels\\frame_001654.txt anomalies\\frame_001654.txt\n",
      "D:\\Dataset\\FishDetection2Yolo\\valid\\labels\\frame_001655.txt anomalies\\frame_001655.txt\n",
      "D:\\Dataset\\FishDetection2Yolo\\valid\\labels\\frame_001656.txt anomalies\\frame_001656.txt\n",
      "D:\\Dataset\\FishDetection2Yolo\\valid\\labels\\frame_001657.txt anomalies\\frame_001657.txt\n",
      "{'0': 1742, '1': 2450, '2': 118, '8': 50, '10': 10, '13': 11, '11': 29, '12': 11, '9': 10, '7': 10, '6': 10}\n"
     ]
    }
   ],
   "source": [
    "DBPATH = r\"D:\\Dataset\\FishDetection\\Annotation\\task_fish_detection-2024_01_28_18_07_53-cvat for video 1.1\\images\"\n",
    "ANNOTATIONS= r\"D:\\Dataset\\FishDetection\\Annotation\\task_fish_detection-2024_01_28_18_07_53-cvat for video 1.1\"\n",
    "DBROOT= r\"D:\\Dataset\\FishDetection\\Annotation\"\n",
    "test_path=r\"D:\\Dataset\\FishDetection2Yolo\\valid\\labels\"\n",
    "test_imgpath=r\"D:\\Dataset\\FishDetection2Yolo\\valid\\images\"\n",
    "\n",
    "windowID = \"Display\"\n",
    "color = (0, 255, 0)  # Green\n",
    "thickness = 10\n",
    "\n",
    "directories = os.listdir(test_path)\n",
    "total_detections = {}\n",
    "for directory in directories:\n",
    "    label_path = os.path.join(test_path, directory)\n",
    "    detections = readLabelYolo(label_path)\n",
    "    detectionCount = len(detections)\n",
    "    total_detections[str(detectionCount)] = total_detections.get(str(detectionCount),0) +1\n",
    "    if len(detections) > 10:\n",
    "        #print(label_path)\n",
    "        #print(detections)\n",
    "        print(label_path, os.path.join(\"anomalies\",directory))\n",
    "        saveImageNotated(label_path, os.path.join(\"anomalies\",directory)[:-3]+\"PNG\")\n",
    "        #print(label_path, os.path.join(\"anomalies\",directory))\n",
    "        \n",
    "        if(False):\n",
    "            split_det = detections[0].split()\n",
    "            if float(split_det[3]) > 0.25 and float(split_det[3]) < 0.80:\n",
    "                print(os.path.join(test_imgpath, directory[:-3]+\"PNG\"))\n",
    "                img = cv2.imread(os.path.join(test_imgpath, directory[:-3]+\"PNG\"), cv2.IMREAD_ANYCOLOR)\n",
    "                start,stop = labelToBox((int(split_det[0]), float(split_det[1]),float(split_det[2]),float(split_det[3]),float(split_det[4])))\n",
    "                cv2.rectangle(img, start, stop, color, thickness)\n",
    "    \n",
    "                cv2.imshow(\"window\", img)\n",
    "                key = cv2.waitKey(10075)\n",
    "                if key == ord(\"q\"):\n",
    "                    cv2.destroyAllWindows()\n",
    "                break\n",
    "                print(detections, directory)\n",
    "    #childdir = os.path.join(DBROOT,directory)\n",
    "print(total_detections)\n",
    "#{'1': 17393, '0': 12071, '2': 1281, '3': 308, '4': 31, '5': 16} TRAIN\n",
    "#{'2': 317, '1': 2738, '0': 1238, '3': 105} TEST\n",
    "#{'0': 1742, '1': 2450, '2': 118, '8': 50, '10': 10, '13': 11, '11': 29, '12': 11, '9': 10, '7': 10, '6': 10} VALID\n",
    "\n"
   ]
  },
  {
   "cell_type": "code",
   "execution_count": 177,
   "id": "217b4f00-2e71-4a92-ae93-1516f7060ce9",
   "metadata": {},
   "outputs": [],
   "source": [
    "img = cv2.imread(r\"D:\\Dataset\\FishDetection2Yolo\\valid\\images\\frame_001608.PNG\", cv2.IMREAD_ANYCOLOR)\n",
    "cv2.imshow(\"window\", img)"
   ]
  },
  {
   "cell_type": "code",
   "execution_count": 221,
   "id": "407620b9-d3ff-45c9-a7ec-090ea6b7cbed",
   "metadata": {},
   "outputs": [],
   "source": [
    "saveImageNotated(r\"D:\\Dataset\\FishDetection2Yolo\\valid\\labels\\frame_001607.txt\", \"anomalies\\frame_001607.png\")"
   ]
  },
  {
   "cell_type": "code",
   "execution_count": 195,
   "id": "010c35ef-63b1-4b73-a7cd-1bd35bc9f0f9",
   "metadata": {},
   "outputs": [
    {
     "data": {
      "text/plain": [
       "'anomalies/test.PNG'"
      ]
     },
     "execution_count": 195,
     "metadata": {},
     "output_type": "execute_result"
    }
   ],
   "source": [
    "shutil.copyfile(r\"D:\\Dataset\\FishDetection2Yolo\\valid\\images\\frame_001608.PNG\", \"anomalies/test.PNG\")"
   ]
  },
  {
   "cell_type": "code",
   "execution_count": 179,
   "id": "6f9653ba-e9b3-41a2-855a-475ddd6f6e63",
   "metadata": {},
   "outputs": [],
   "source": [
    "cv2.destroyAllWindows()"
   ]
  },
  {
   "cell_type": "code",
   "execution_count": 11,
   "id": "0bc5693d-7725-4569-a567-f472f961dc8d",
   "metadata": {
    "scrolled": true
   },
   "outputs": [
    {
     "name": "stdout",
     "output_type": "stream",
     "text": [
      "80160\n"
     ]
    }
   ],
   "source": [
    "\n",
    "directories = os.listdir(DBROOT)\n",
    "pngs = 0\n",
    "for directory in directories:\n",
    "    childdir = os.path.join(DBROOT,directory)\n",
    "    pngs+=len(os.listdir(os.path.join(childdir, \"images\")))\n",
    "print(pngs)"
   ]
  },
  {
   "cell_type": "code",
   "execution_count": 15,
   "id": "6b16b19f-dda0-4645-b192-51be441e626e",
   "metadata": {
    "scrolled": true
   },
   "outputs": [
    {
     "name": "stdout",
     "output_type": "stream",
     "text": [
      "D:\\Dataset\\FishDetection\\Annotation\\task_20230716011520_20230716011528_3.mp4_dataset_2024_02_24_12_58_00_cvat for video 1.1\n"
     ]
    }
   ],
   "source": [
    "directories = os.listdir(DBROOT)\n",
    "windowID = \"Display\"\n",
    "cv2.namedWindow(windowID, cv2.WINDOW_AUTOSIZE) \n",
    "try:\n",
    "    for i in range(0, len(directories), 3):\n",
    "        print(os.path.join(DBROOT,directories[i]))\n",
    "        continueNext = showVideo(os.path.join(DBROOT, directories[i]),windowID, skip_empty=True)\n",
    "        if not continueNext:\n",
    "            break\n",
    "\n",
    "finally:       \n",
    "    cv2.destroyAllWindows()\n"
   ]
  },
  {
   "cell_type": "code",
   "execution_count": 5,
   "id": "c492a6b7-a6dd-4d71-86c3-dfdf0a13b36a",
   "metadata": {},
   "outputs": [],
   "source": [
    "root = r\"C:\\Users\\alf\\Dataset\\DeepFish\\test\"\n",
    "directories = os.listdir(root)\n",
    "label_files = [os.path.join(root,a) for a in directories if \"txt\" in a]"
   ]
  },
  {
   "cell_type": "code",
   "execution_count": 7,
   "id": "cb7b4e48-0601-44d6-b8ee-5a1eca4030eb",
   "metadata": {},
   "outputs": [
    {
     "name": "stdout",
     "output_type": "stream",
     "text": [
      "C:\\Users\\alf\\Dataset\\DeepFish\\test\\7117_Caranx_sexfasciatus_juvenile_f000006.jpg\n",
      "C:\\Users\\alf\\Dataset\\DeepFish\\test\\7117_Caranx_sexfasciatus_juvenile_f000006.txt\n"
     ]
    }
   ],
   "source": [
    "print(label_files[0].rstrip(\".txt\")+\".jpg\")\n",
    "print(label_files[0])\n"
   ]
  },
  {
   "cell_type": "code",
   "execution_count": 47,
   "id": "6f524451-26b3-4560-a837-24605f03e063",
   "metadata": {},
   "outputs": [
    {
     "name": "stdout",
     "output_type": "stream",
     "text": [
      "C:\\Users\\alf\\Dataset\\DeepFish\\test\\7117_Caranx_sexfasciatus_juvenile_f000008.jpg\n"
     ]
    }
   ],
   "source": [
    "color = (0, 255, 0)  # Green\n",
    "thickness = 10\n",
    "cv2.setWindowTitle(\"window\", \"test\")\n",
    "# path=r\"D:\\Dataset\\FishDetection\\Annotation\\task_20230716011538_20230716011547_3.mp4_dataset_2024_02_24_12_58_15_cvat for video 1.1\\images\\frame_000156.PNG\"\n",
    "# img = cv2.imread(label_files[0].rstrip(\".txt\")+\".jpg\", cv2.IMREAD_COLOR)\n",
    "print(label_files[1].rstrip(\".txt\")+\".jpg\")\n",
    "for label_file in label_files:\n",
    "    img = cv2.imread(label_file.rstrip(\".txt\")+\".jpg\", cv2.IMREAD_COLOR)\n",
    "    # img.shape gives x and y reversed order\n",
    "    y,x,_ = img.shape\n",
    "    labels = loadLabelsYolo(label_file)\n",
    "    for label in labels:\n",
    "        start, stop = labelToBox(label, (x,y))\n",
    "        cv2.rectangle(img, start, stop, color, thickness)\n",
    "    cv2.imshow(\"window\", img)\n",
    "    key = cv2.waitKey(75)\n",
    "    if key == ord(\"q\"):\n",
    "        cv2.destroyAllWindows()\n",
    "        break\n",
    "\n",
    "\n"
   ]
  },
  {
   "cell_type": "code",
   "execution_count": 51,
   "id": "2901ef64-dbc2-42ad-8819-61d079eec06a",
   "metadata": {},
   "outputs": [
    {
     "data": {
      "text/plain": [
       "909"
      ]
     },
     "execution_count": 51,
     "metadata": {},
     "output_type": "execute_result"
    }
   ],
   "source": [
    "len(label_files)"
   ]
  },
  {
   "cell_type": "code",
   "execution_count": null,
   "id": "3fc02f91-7677-46fa-afc6-561d428550bf",
   "metadata": {},
   "outputs": [],
   "source": [
    "def showVideoByPath(samples_path: str, window: str, skip_empty: bool=False, window_name: str= \"\") -> bool:\n",
    "    r\"\"\"\n",
    "    samples_path = \"D:\\Dataset\\FishDetection\\Annotation\\task_fish_detection-2024_01_28_18_07_53-cvat for video 1.1\"\n",
    "    \"\"\"\n",
    "    # Draw boxes settings\n",
    "    color = (0, 255, 0)  # Green\n",
    "    thickness = 10\n",
    "    # Load annotation boxes and their mapping\n",
    "    boxes, map2indices, frames = load_annotations(samples_path)\n",
    "    video_name = window_name if window_name else samples_path.split(\"\\\\\")[-1]\n",
    "    cv2.setWindowTitle(window, video_name)\n",
    "    if skip_empty and not boxes:\n",
    "        return True\n",
    "    for i in range(*frames):\n",
    "        img = cv2.imread(path2img(i, samples_path+r\"\\images\"), cv2.IMREAD_ANYCOLOR)\n",
    "        if str(i) in map2indices:\n",
    "            for indicie in map2indices[str(i)]:\n",
    "                box = boxes[indicie]\n",
    "                # Get coordinates from your box data\n",
    "                x = float(box['xtl'])\n",
    "                y = float(box['ytl'])\n",
    "                x2 = float(box['xbr'])\n",
    "                y2 = float(box['ybr'])\n",
    "                # Convert to integers\n",
    "                x, y, x2, y2 = map(int, [x, y, x2, y2])\n",
    "                # Draw rectangle\n",
    "                cv2.rectangle(img, (x, y), (x2, y2), color, thickness)\n",
    "        key = cv2.waitKey(2) & 0xFF\n",
    "        if key == ord(\"q\"):\n",
    "            return True\n",
    "        elif key == ord(\"a\"):\n",
    "            return False\n",
    "        #samples_path.split(\"\\\\\")[-1],\n",
    "        cv2.imshow(window, img)\n",
    "    return True\n",
    "\n"
   ]
  },
  {
   "cell_type": "code",
   "execution_count": 49,
   "id": "1c5b2ea3-1fd6-4824-89e3-d0645fb575dc",
   "metadata": {},
   "outputs": [],
   "source": [
    "cv2.destroyAllWindows()"
   ]
  },
  {
   "cell_type": "code",
   "execution_count": 276,
   "id": "0bcbb05b-a232-48af-bc16-2e0f7bc4b769",
   "metadata": {},
   "outputs": [],
   "source": [
    "color = (0, 255, 0)  # Green\n",
    "thickness = 10\n",
    "cv2.setWindowTitle(\"window\", \"test\")\n",
    "x,y = 1920, 1080\n",
    "labels = loadLabelsYolo(r\"D:\\Dataset\\FishDetection\\Annotation\\task_20230718031518_20230718031525_3.mp4_dataset_2024_02_26_06_58_29_cvat for video 1.1\\images\\frame_000000.txt\")\n",
    "img = cv2.imread(r\"D:\\Dataset\\FishDetection\\Annotation\\task_20230718031518_20230718031525_3.mp4_dataset_2024_02_26_06_58_29_cvat for video 1.1\\images\\frame_000000.PNG\", cv2.IMREAD_COLOR)\n",
    "for label in labels:\n",
    "    start, stop = labelToBox(label, (x,y))\n",
    "    cv2.rectangle(img, start, stop, color, thickness)\n",
    "cv2.imshow(\"window\", img)\n",
    "key = cv2.waitKey(10075)\n",
    "if key == ord(\"q\"):\n",
    "    cv2.destroyAllWindows()"
   ]
  },
  {
   "cell_type": "code",
   "execution_count": 272,
   "id": "a5bb8cda-df19-47aa-aa6c-9771a889981a",
   "metadata": {},
   "outputs": [],
   "source": [
    "cv2.destroyAllWindows()"
   ]
  }
 ],
 "metadata": {
  "kernelspec": {
   "display_name": "yvenv",
   "language": "python",
   "name": "yvenv"
  },
  "language_info": {
   "codemirror_mode": {
    "name": "ipython",
    "version": 3
   },
   "file_extension": ".py",
   "mimetype": "text/x-python",
   "name": "python",
   "nbconvert_exporter": "python",
   "pygments_lexer": "ipython3",
   "version": "3.12.0"
  }
 },
 "nbformat": 4,
 "nbformat_minor": 5
}
